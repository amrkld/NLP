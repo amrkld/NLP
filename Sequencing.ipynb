{
 "cells": [
  {
   "cell_type": "markdown",
   "metadata": {},
   "source": [
    "Part 2: Sequencing -> https://youtu.be/r9QjkdSJZ2g?feature=shared"
   ]
  },
  {
   "cell_type": "code",
   "execution_count": 1,
   "metadata": {},
   "outputs": [],
   "source": [
    "from tensorflow.keras.preprocessing.text import Tokenizer"
   ]
  },
  {
   "cell_type": "markdown",
   "metadata": {},
   "source": [
    "texts_to_sequences source: https://github.com/keras-team/keras/blob/v3.3.3/keras/src/legacy/preprocessing/text.py#L176-L177"
   ]
  },
  {
   "cell_type": "code",
   "execution_count": 5,
   "metadata": {},
   "outputs": [
    {
     "name": "stdout",
     "output_type": "stream",
     "text": [
      "{'my': 1, 'love': 2, 'i': 3, 'cat': 4, 'dog': 5, \"dog's\": 6, 'food': 7}\n",
      "[[3, 2, 1, 5], [3, 2, 1, 4], [1, 4, 2, 1, 6, 7]]\n"
     ]
    }
   ],
   "source": [
    "sentence = [\n",
    "    'I love my dog',\n",
    "    'I love my cat',\n",
    "    \"My cat love my dog's food\" \n",
    "]\n",
    "\n",
    "tokenizer = Tokenizer(num_words = 100)  \n",
    "tokenizer.fit_on_texts(sentence)\n",
    "word_index = tokenizer.word_index\n",
    "\n",
    "\n",
    "sequences = tokenizer.texts_to_sequences(sentence)\n",
    "\n",
    "print(word_index)\n",
    "print(sequences)   \n",
    "\n",
    "#output : [[3, 2, 1, 5], [3, 2, 1, 4], [1, 4, 2, 1, 6, 7]]\n",
    "# The output is the sentence sequence"
   ]
  }
 ],
 "metadata": {
  "kernelspec": {
   "display_name": "Python 3",
   "language": "python",
   "name": "python3"
  },
  "language_info": {
   "codemirror_mode": {
    "name": "ipython",
    "version": 3
   },
   "file_extension": ".py",
   "mimetype": "text/x-python",
   "name": "python",
   "nbconvert_exporter": "python",
   "pygments_lexer": "ipython3",
   "version": "3.12.0"
  }
 },
 "nbformat": 4,
 "nbformat_minor": 2
}
