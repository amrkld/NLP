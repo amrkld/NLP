{
 "cells": [
  {
   "cell_type": "markdown",
   "metadata": {},
   "source": [
    "Part 2: Sequencing -> https://youtu.be/r9QjkdSJZ2g?feature=shared"
   ]
  },
  {
   "cell_type": "code",
   "execution_count": 1,
   "metadata": {},
   "outputs": [],
   "source": [
    "from tensorflow.keras.preprocessing.text import Tokenizer"
   ]
  },
  {
   "cell_type": "markdown",
   "metadata": {},
   "source": [
    "texts_to_sequences source: https://github.com/keras-team/keras/blob/v3.3.3/keras/src/legacy/preprocessing/text.py#L176-L177"
   ]
  },
  {
   "cell_type": "code",
   "execution_count": 9,
   "metadata": {},
   "outputs": [
    {
     "name": "stdout",
     "output_type": "stream",
     "text": [
      "{'my': 1, 'love': 2, 'i': 3, 'cat': 4, 'dog': 5, \"dog's\": 6, 'food': 7}\n",
      "[[3, 2, 1, 5], [3, 2, 1, 4], [1, 4, 2, 1, 6, 7]]\n"
     ]
    }
   ],
   "source": [
    "sentence = [\n",
    "    'I love my dog',\n",
    "    'I love my cat',\n",
    "    \"My cat love my dog's food\" \n",
    "]\n",
    "\n",
    "tokenizer = Tokenizer(num_words = 100)  \n",
    "tokenizer.fit_on_texts(sentence)\n",
    "word_index = tokenizer.word_index\n",
    "\n",
    "\n",
    "sequences = tokenizer.texts_to_sequences(sentence)\n",
    "\n",
    "print(word_index)\n",
    "print(sequences)   \n",
    "\n",
    "#output : [[3, 2, 1, 5], [3, 2, 1, 4], [1, 4, 2, 1, 6, 7]]\n",
    "# The output is the sentence sequence"
   ]
  },
  {
   "cell_type": "code",
   "execution_count": 10,
   "metadata": {},
   "outputs": [
    {
     "name": "stdout",
     "output_type": "stream",
     "text": [
      "[[3, 2, 1, 5], [1, 5, 1]]\n"
     ]
    }
   ],
   "source": [
    "# There is words in the test data that has never seen before, how to handel this ?\n",
    "test_data = [\n",
    "    'i really love my dog',\n",
    "    'my dog loves my mom'\n",
    "]\n",
    "\n",
    "test_seq = tokenizer.texts_to_sequences(test_data)\n",
    "print(test_seq)\n",
    "\n",
    "# output: [[3, 2, 1, 5], [1, 5, 1]]\n",
    "# It ignores what it never seen before "
   ]
  },
  {
   "cell_type": "code",
   "execution_count": 17,
   "metadata": {},
   "outputs": [
    {
     "name": "stdout",
     "output_type": "stream",
     "text": [
      "{'<OOV>': 1, 'my': 2, 'love': 3, 'dog': 4, 'i': 5, 'you': 6, 'cat': 7, 'do': 8, 'think': 9, 'is': 10, 'amazing': 11}\n",
      "[[5, 1, 3, 2, 4], [2, 4, 1, 2, 1]]\n"
     ]
    }
   ],
   "source": [
    "test_data = [\n",
    "    'i really love my dog',\n",
    "    'my dog loves my mom'\n",
    "]\n",
    "\n",
    "new_sentence = [\n",
    "    'I love my dog',\n",
    "    'I love my cat',\n",
    "    'you love my dog',\n",
    "    'Do you think my dog is amazing?'\n",
    "]\n",
    "\n",
    "new_tok = Tokenizer(num_words=100, oov_token=\"<OOV>\")\n",
    "new_tok.fit_on_texts(new_sentence)\n",
    "word_index = new_tok.word_index\n",
    "\n",
    "print(word_index)\n",
    "\n",
    "test_seq2 = new_tok.texts_to_sequences(test_data)\n",
    "print(test_seq2)\n",
    "\n",
    "# output -> [[5, 1, 3, 2, 4], [2, 4, 1, 2, 1]]\n",
    "# It replaces any new word with 1"
   ]
  },
  {
   "cell_type": "markdown",
   "metadata": {},
   "source": [
    "When it comes to training a Neural network how can we handel different sentence length ?\n",
    "\n",
    "- the advanced option would be a RaggedTensor\n",
    "- but for now we will use paddding"
   ]
  },
  {
   "cell_type": "code",
   "execution_count": 21,
   "metadata": {},
   "outputs": [
    {
     "name": "stdout",
     "output_type": "stream",
     "text": [
      "[[ 0  0  0  5  3  2  4]\n",
      " [ 0  0  0  5  3  2  7]\n",
      " [ 0  0  0  6  3  2  4]\n",
      " [ 8  6  9  2  4 10 11]]\n",
      "_-_-_-_-_-_-_-_-_-_-_-_-_-_-_-_-_-_-_-_-\n",
      "[[ 5  3  2  4  0  0  0]\n",
      " [ 5  3  2  7  0  0  0]\n",
      " [ 6  3  2  4  0  0  0]\n",
      " [ 8  6  9  2  4 10 11]]\n",
      "_-_-_-_-_-_-_-_-_-_-_-_-_-_-_-_-_-_-_-_-\n",
      "[[ 0  5  3  2  4]\n",
      " [ 0  5  3  2  7]\n",
      " [ 0  6  3  2  4]\n",
      " [ 9  2  4 10 11]]\n"
     ]
    }
   ],
   "source": [
    "from tensorflow.keras.preprocessing.sequence import pad_sequences\n",
    "\n",
    "sentence = [\n",
    "    'I love my dog',\n",
    "    'I love my cat',\n",
    "    'you love my dog',\n",
    "    'Do you think my dog is amazing?'\n",
    "]\n",
    "\n",
    "new_tok = Tokenizer(num_words=100, oov_token=\"<OOV>\")\n",
    "new_tok.fit_on_texts(sentence)\n",
    "word_index = new_tok.word_index\n",
    "\n",
    "sequences = new_tok.texts_to_sequences(sentence)\n",
    "\n",
    "padded = pad_sequences(sequences)  # -> this code will choose the max(length(of sentences)), and add zeros pre each sentence < max(length)\n",
    "\n",
    "padded_with_post_zeros = pad_sequences(sequences, padding='post')\n",
    "padded_with_max_length = pad_sequences(sequences, maxlen=5)  \n",
    "# -> we can also change the truncation(removing to until the max lenght), the default is pre_truncation\n",
    "# -> padded_with_max_length = pad_sequences(sequences, maxlen=5, truncation = 'post') -> we can use post truncation (remove from the end till the max length) \n",
    "\n",
    "print(padded)\n",
    "print('_-'*20)\n",
    "print(padded_with_post_zeros)\n",
    "print('_-'*20)\n",
    "print(padded_with_max_length)\n"
   ]
  },
  {
   "cell_type": "code",
   "execution_count": null,
   "metadata": {},
   "outputs": [],
   "source": []
  }
 ],
 "metadata": {
  "kernelspec": {
   "display_name": "Python 3",
   "language": "python",
   "name": "python3"
  },
  "language_info": {
   "codemirror_mode": {
    "name": "ipython",
    "version": 3
   },
   "file_extension": ".py",
   "mimetype": "text/x-python",
   "name": "python",
   "nbconvert_exporter": "python",
   "pygments_lexer": "ipython3",
   "version": "3.12.0"
  }
 },
 "nbformat": 4,
 "nbformat_minor": 2
}
