{
 "cells": [
  {
   "cell_type": "markdown",
   "metadata": {},
   "source": [
    "Part 1: Tokenization  : https://youtu.be/fNxaJsNG3-s?feature=shared"
   ]
  },
  {
   "cell_type": "code",
   "execution_count": 3,
   "metadata": {},
   "outputs": [],
   "source": [
    "import tensorflow as tf\n",
    "from tensorflow import keras\n",
    "from tensorflow.keras.preprocessing.text import Tokenizer  # Tokenizer API"
   ]
  },
  {
   "cell_type": "code",
   "execution_count": 10,
   "metadata": {},
   "outputs": [
    {
     "name": "stdout",
     "output_type": "stream",
     "text": [
      "{'i': 1, 'love': 2, 'my': 3, 'dog': 4, 'cat': 5}\n"
     ]
    }
   ],
   "source": [
    "sentence = [\n",
    "    'I love my dog',\n",
    "    'I love my cat' \n",
    "]\n",
    "\n",
    "tokenizer = Tokenizer(num_words = 100)  #100 is the max number of words to keep (take the most freq. words)\n",
    "tokenizer.fit_on_texts(sentence)\n",
    "word_index = tokenizer.word_index\n",
    "print(word_index)\n",
    "\n",
    "\n",
    "# output :  {'i': 1, 'love': 2, 'my': 3, 'dog': 4, 'cat': 5}\n",
    "# the key is the word and the values is the token for that word"
   ]
  },
  {
   "cell_type": "code",
   "execution_count": 11,
   "metadata": {},
   "outputs": [
    {
     "name": "stdout",
     "output_type": "stream",
     "text": [
      "{'love': 1, 'my': 2, 'i': 3, 'dog': 4, 'cat': 5, 'mike': 6}\n"
     ]
    }
   ],
   "source": [
    "# If we add a third sentence\n",
    "sentence = [\n",
    "    'I love my dog',\n",
    "    'I love my cat',\n",
    "    'Mike love my dog!'  # Note that we add '!' after dog\n",
    "]\n",
    "tokenizer = Tokenizer(num_words= 100)\n",
    "tokenizer.fit_on_texts(sentence)\n",
    "word_index = tokenizer.word_index\n",
    "print(word_index)\n",
    "\n",
    "# the Tokenizer will understand that dog! is just dog"
   ]
  },
  {
   "cell_type": "code",
   "execution_count": null,
   "metadata": {},
   "outputs": [],
   "source": []
  }
 ],
 "metadata": {
  "kernelspec": {
   "display_name": "Python 3",
   "language": "python",
   "name": "python3"
  },
  "language_info": {
   "codemirror_mode": {
    "name": "ipython",
    "version": 3
   },
   "file_extension": ".py",
   "mimetype": "text/x-python",
   "name": "python",
   "nbconvert_exporter": "python",
   "pygments_lexer": "ipython3",
   "version": "3.12.0"
  }
 },
 "nbformat": 4,
 "nbformat_minor": 2
}
