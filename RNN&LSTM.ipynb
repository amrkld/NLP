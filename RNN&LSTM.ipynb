{
 "cells": [
  {
   "cell_type": "markdown",
   "metadata": {},
   "source": [
    "I recommend watching this video -> https://youtu.be/Mdp5pAKNNW4?feature=shared\n",
    "\n",
    "- Part 4 -> https://youtu.be/OuYtk9Ymut4?feature=shared  (RNN)\n",
    "- part 5 -> https://youtu.be/A9QVYOBjZdY?feature=shared (LSTM)\n",
    "\n",
    "Generating texts: RNN & LSTM\n",
    "\n",
    "- In the past videos the order dosn't matter\n",
    "- But in generating text the order does matter"
   ]
  },
  {
   "cell_type": "markdown",
   "metadata": {},
   "source": [
    "RNN is not good enough to predict words that are based on a very far word in the sentence: \n",
    "\n",
    "\"\" I lived in Ireland, so at school they mad me learn how to speak <...> \"\"\n",
    "\n",
    "It is hard to predict the last word if we are using RNN. so that's why we need something better which is LSTM (long-short term memory)\n"
   ]
  },
  {
   "cell_type": "markdown",
   "metadata": {},
   "source": [
    "# LSTM (Code)"
   ]
  },
  {
   "cell_type": "code",
   "execution_count": null,
   "metadata": {},
   "outputs": [],
   "source": []
  }
 ],
 "metadata": {
  "language_info": {
   "name": "python"
  }
 },
 "nbformat": 4,
 "nbformat_minor": 2
}
